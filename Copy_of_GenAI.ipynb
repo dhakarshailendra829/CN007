{
  "nbformat": 4,
  "nbformat_minor": 0,
  "metadata": {
    "colab": {
      "provenance": [],
      "authorship_tag": "ABX9TyPAV4U3XUY6xubCVsHULkO5",
      "include_colab_link": true
    },
    "kernelspec": {
      "name": "python3",
      "display_name": "Python 3"
    },
    "language_info": {
      "name": "python"
    }
  },
  "cells": [
    {
      "cell_type": "markdown",
      "metadata": {
        "id": "view-in-github",
        "colab_type": "text"
      },
      "source": [
        "<a href=\"https://colab.research.google.com/github/dhakarshailendra829/CN007/blob/main/Copy_of_GenAI.ipynb\" target=\"_parent\"><img src=\"https://colab.research.google.com/assets/colab-badge.svg\" alt=\"Open In Colab\"/></a>"
      ]
    },
    {
      "cell_type": "code",
      "execution_count": null,
      "metadata": {
        "id": "_fFF5Cx-Z2LD"
      },
      "outputs": [],
      "source": [
        "import re\n",
        "import random\n",
        "from textblob import TextBlob\n",
        "\n",
        "class MentalHealthBot:\n",
        "    negative_responses = (\"no\", \"nope\", \"nah\", \"not really\", \"sorry\", \"not now\", \"maybe later\")\n",
        "    exit_commands = (\"quit\", \"pause\", \"exit\", \"goodbye\", \"bye\", \"later\", \"leave\", \"retreat\")\n",
        "    random_questions = (\n",
        "        \"Hi! How are you feeling today?\",\n",
        "        \"What's on your mind?\",\n",
        "        \"Do you want to talk about how you're doing?\",\n",
        "        \"How's your day going?\"\n",
        "    )\n",
        "    faq_responses = {\n",
        "        \"what is anxiety\": \"Anxiety is a normal emotion, but excessive anxiety can interfere with daily activities. It's important to talk to someone if you're feeling overwhelmed.\",\n",
        "        \"how to deal with stress\": \"Take breaks, talk to someone, practice relaxation techniques like deep breathing, and maintain a balanced schedule.\",\n",
        "        \"how to improve mental health\": \"Exercise regularly, maintain a healthy diet, sleep well, and don't hesitate to reach out for support when needed.\",\n",
        "        \"how to fight depression\": \"Talk to a mental health professional, stay connected with friends and family, and practice self-care activities you enjoy.\"\n",
        "    }\n",
        "\n",
        "    def __init__(self):\n",
        "        self.intent_patterns = {\n",
        "            'describe_feelings_intent': r'.*\\b(feeling|feel)\\b.*',\n",
        "            'faq_intent': r'.*\\bwhat|how\\b.*\\b(anxiety|stress|mental health|depression)\\b.*',\n",
        "        }\n",
        "\n",
        "    def greet(self):\n",
        "        self.name = input(\"Hello! What's your name?\\n\")\n",
        "        will_help = input(f\"Hi {self.name}, I'm a mental health chatbot. Would you like to share how you're feeling today?\\n\")\n",
        "        if will_help.lower() in self.negative_responses:\n",
        "            print(\"No worries! Feel free to reach out anytime.\")\n",
        "            return\n",
        "        self.chat()\n",
        "\n",
        "    def make_exit(self, reply):\n",
        "        for command in self.exit_commands:\n",
        "            if reply.lower() == command:\n",
        "                print(\"Take care! Remember, you're not alone. Goodbye!\")\n",
        "                return True\n",
        "\n",
        "    def chat(self):\n",
        "        reply = input(random.choice(self.random_questions)).lower()\n",
        "        while not self.make_exit(reply):\n",
        "            response = self.match_reply(reply)\n",
        "            print(response)\n",
        "            reply = input().lower()\n",
        "\n",
        "    def match_reply(self, reply):\n",
        "        for intent, pattern in self.intent_patterns.items():\n",
        "            if re.match(pattern, reply):\n",
        "                if intent == 'describe_feelings_intent':\n",
        "                    return self.describe_feelings(reply)\n",
        "                elif intent == 'faq_intent':\n",
        "                    return self.answer_faq(reply)\n",
        "        return self.no_match_intent()\n",
        "\n",
        "    def describe_feelings(self, reply):\n",
        "        sentiment = TextBlob(reply).sentiment.polarity\n",
        "        if sentiment > 0:\n",
        "            return \"I'm glad to hear you're feeling good! Keep it up!\"\n",
        "        elif sentiment < 0:\n",
        "            return \"I'm sorry you're feeling down. It's okay to not be okay sometimes. Would you like to talk more about it?\"\n",
        "        else:\n",
        "            return \"I see you're feeling neutral. Is there something you'd like to explore more?\"\n",
        "\n",
        "    def answer_faq(self, reply):\n",
        "        for question, answer in self.faq_responses.items():\n",
        "            if question in reply:\n",
        "                return answer\n",
        "        return \"That's a great question! While I don't have the answer right now, it's always good to talk to a mental health professional.\"\n",
        "    def no_match_intent(self):\n",
        "        responses = (\n",
        "            \"I'm here to listen, feel free to share more.\",\n",
        "            \"Would you like to talk about anything in particular?\",\n",
        "            \"I'm here for you. What's been on your mind lately?\",\n",
        "            \"I'm here to support you, no matter what you're going through.\"\n",
        "        )\n",
        "        return random.choice(responses)\n",
        "MentalHealthBot = MentalHealthBot()\n",
        "MentalHealthBot.greet()\n"
      ]
    }
  ]
}